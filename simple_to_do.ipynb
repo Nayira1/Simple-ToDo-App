{
 "cells": [
  {
   "cell_type": "code",
   "execution_count": 1,
   "id": "cda90a55",
   "metadata": {},
   "outputs": [],
   "source": [
    "def add(action):\n",
    "    global tasks\n",
    "    new_task = input(\"Please enter your new task\")\n",
    "    tasks.append(new_task)\n",
    "    print (\"Your task has been added ˗ˏˋ ★ ˎˊ˗\")\n",
    "    return(checking())\n",
    "\n",
    "def remove(action):\n",
    "    global tasks\n",
    "    while True:\n",
    "        removedTask = input(\"What task do you want to remove (Please enter the exact same task): \")\n",
    "        if removedTask in tasks:\n",
    "            tasks.remove(removedTask)\n",
    "            print(\"The task has been removed!!\")\n",
    "            break  \n",
    "        else:\n",
    "            print(\"Task not found. Please try again.\")\n",
    "    return(checking())\n",
    "\n",
    "def view(action):\n",
    "    global tasks\n",
    "    if tasks:\n",
    "        print(\"Your tasks are\",tasks)\n",
    "    else:\n",
    "        print(\"Your list is empty\")\n",
    "            \n",
    "def checking():   \n",
    "    while True:\n",
    "        check = input(\"Please choose an option : \\n 1- Add a task\\n 2- Remove a task \\n 3- View\\n 4- End\\n\").strip()\n",
    "        if check == \"1\":\n",
    "            add(check)\n",
    "        elif check == \"2\":\n",
    "            remove(check)\n",
    "        elif check == \"3\":\n",
    "           view(check)\n",
    "        elif check == \"4\":\n",
    "           print(\"ミ💖 Thanks for using our To-Do list, have a great day 💖彡\")\n",
    "           break\n",
    "        else :\n",
    "            print(\"!!ERROR!! ICORRECT INPUT, PLEASE TRY AGAIN\")\n",
    "        "
   ]
  },
  {
   "cell_type": "code",
   "execution_count": null,
   "id": "426c3dac",
   "metadata": {},
   "outputs": [
    {
     "name": "stdout",
     "output_type": "stream",
     "text": [
      "𝒴ℴ𝓊𝓇 𝓉ℴ 𝒹ℴ 𝓁𝒾𝓈𝓉 𝓅𝓎𝓉𝒽ℴ𝓃 𝒶𝓅𝓅\n",
      "\n",
      "Please choose an option : \n",
      " 1- Add a task\n",
      " 2- Remove a task \n",
      " 3- View\n",
      " 4-End\n",
      "ll\n",
      "!!ERROR!! ICORRECT INPUT, PLEASE TRY AGAIN\n",
      "Please choose an option : \n",
      " 1- Add a task\n",
      " 2- Remove a task \n",
      " 3- View\n",
      " 4-End\n",
      "1\n",
      "Please enter your new task1  \n",
      "Your task has been added ˗ˏˋ ★ ˎˊ˗\n",
      "Please choose an option : \n",
      " 1- Add a task\n",
      " 2- Remove a task \n",
      " 3- View\n",
      " 4-End\n",
      "1  \n"
     ]
    }
   ],
   "source": [
    "print(\"𝒴ℴ𝓊𝓇 𝓉ℴ 𝒹ℴ 𝓁𝒾𝓈𝓉 𝓅𝓎𝓉𝒽ℴ𝓃 𝒶𝓅𝓅\\n\")\n",
    "tasks = []\n",
    "checking()\n"
   ]
  },
  {
   "cell_type": "code",
   "execution_count": null,
   "id": "44624a8d",
   "metadata": {},
   "outputs": [],
   "source": []
  }
 ],
 "metadata": {
  "kernelspec": {
   "display_name": "Python 3 (ipykernel)",
   "language": "python",
   "name": "python3"
  },
  "language_info": {
   "codemirror_mode": {
    "name": "ipython",
    "version": 3
   },
   "file_extension": ".py",
   "mimetype": "text/x-python",
   "name": "python",
   "nbconvert_exporter": "python",
   "pygments_lexer": "ipython3",
   "version": "3.10.8"
  }
 },
 "nbformat": 4,
 "nbformat_minor": 5
}
